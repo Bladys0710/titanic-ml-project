{
 "cells": [
  {
   "cell_type": "code",
   "execution_count": null,
   "id": "1057c463-e1f3-4a42-9e5d-1be0045ca943",
   "metadata": {
    "id": "1057c463-e1f3-4a42-9e5d-1be0045ca943"
   },
   "outputs": [],
   "source": [
    "#Import libraries\n",
    "import pandas as pd\n",
    "import numpy as np\n",
    "import seaborn as sb\n",
    "import matplotlib.pyplot as plt\n",
    "from statsmodels.stats.outliers_influence import variance_inflation_factor as vif\n",
    "from sklearn.model_selection import train_test_split\n",
    "from sklearn.linear_model import LinearRegression\n",
    "from sklearn.metrics import mean_absolute_error, mean_squared_error, r2_score\n",
    "\n",
    "%matplotlib inline"
   ]
  },
  {
   "cell_type": "code",
   "execution_count": null,
   "id": "4116a55d-d0d3-42dd-b400-a5abe4077e13",
   "metadata": {
    "id": "4116a55d-d0d3-42dd-b400-a5abe4077e13"
   },
   "outputs": [],
   "source": [
    "import pandas as pd\n",
    "\n",
    "#Read input data\n",
    "train_data = pd.read_csv('/content/drive/MyDrive/ML/titanic-ml-project/data/processed/train.csv')\n",
    "test_data = pd.read_csv('/content/drive/MyDrive/ML/titanic-ml-project/data/processed/test.csv')"
   ]
  },
  {
   "cell_type": "code",
   "execution_count": null,
   "id": "pGx750lPk-qx",
   "metadata": {
    "id": "pGx750lPk-qx"
   },
   "outputs": [],
   "source": [
    "train_data"
   ]
  }
 ],
 "metadata": {
  "colab": {
   "provenance": [
    {
     "file_id": "1HAhS3YbD60KkPHg-GFIefDjna3BVD2mx",
     "timestamp": 1755258604703
    }
   ]
  },
  "kernelspec": {
   "display_name": "Python [conda env:base] *",
   "language": "python",
   "name": "conda-base-py"
  },
  "language_info": {
   "codemirror_mode": {
    "name": "ipython",
    "version": 3
   },
   "file_extension": ".py",
   "mimetype": "text/x-python",
   "name": "python",
   "nbconvert_exporter": "python",
   "pygments_lexer": "ipython3",
   "version": "3.12.7"
  }
 },
 "nbformat": 4,
 "nbformat_minor": 5
}
